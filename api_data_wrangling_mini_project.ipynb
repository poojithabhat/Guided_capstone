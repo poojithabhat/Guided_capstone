{
 "cells": [
  {
   "cell_type": "markdown",
   "metadata": {},
   "source": [
    "This exercise will require you to pull some data from the Qunadl API. Qaundl is currently the most widely used aggregator of financial market data."
   ]
  },
  {
   "cell_type": "markdown",
   "metadata": {},
   "source": [
    "As a first step, you will need to register a free account on the http://www.quandl.com website."
   ]
  },
  {
   "cell_type": "markdown",
   "metadata": {},
   "source": [
    "After you register, you will be provided with a unique API key, that you should store:"
   ]
  },
  {
   "cell_type": "code",
   "execution_count": 1,
   "metadata": {},
   "outputs": [],
   "source": [
    "# Store the API key as a string - according to PEP8, constants are always named in all upper case\n",
    "API_KEY = '###'
   ]
  },
  {
   "cell_type": "markdown",
   "metadata": {},
   "source": [
    "Qaundl has a large number of data sources, but, unfortunately, most of them require a Premium subscription. Still, there are also a good number of free datasets."
   ]
  },
  {
   "cell_type": "markdown",
   "metadata": {},
   "source": [
    "For this mini project, we will focus on equities data from the Frankfurt Stock Exhange (FSE), which is available for free. We'll try and analyze the stock prices of a company called Carl Zeiss Meditec, which manufactures tools for eye examinations, as well as medical lasers for laser eye surgery: https://www.zeiss.com/meditec/int/home.html. The company is listed under the stock ticker AFX_X."
   ]
  },
  {
   "cell_type": "markdown",
   "metadata": {},
   "source": [
    "You can find the detailed Quandl API instructions here: https://docs.quandl.com/docs/time-series"
   ]
  },
  {
   "cell_type": "markdown",
   "metadata": {},
   "source": [
    "While there is a dedicated Python package for connecting to the Quandl API, we would prefer that you use the *requests* package, which can be easily downloaded using *pip* or *conda*. You can find the documentation for the package here: http://docs.python-requests.org/en/master/ "
   ]
  },
  {
   "cell_type": "markdown",
   "metadata": {},
   "source": [
    "Finally, apart from the *requests* package, you are encouraged to not use any third party Python packages, such as *pandas*, and instead focus on what's available in the Python Standard Library (the *collections* module might come in handy: https://pymotw.com/3/collections/ ).\n",
    "Also, since you won't have access to DataFrames, you are encouraged to us Python's native data structures - preferably dictionaries, though some questions can also be answered using lists.\n",
    "You can read more on these data structures here: https://docs.python.org/3/tutorial/datastructures.html"
   ]
  },
  {
   "cell_type": "markdown",
   "metadata": {},
   "source": [
    "Keep in mind that the JSON responses you will be getting from the API map almost one-to-one to Python's dictionaries. Unfortunately, they can be very nested, so make sure you read up on indexing dictionaries in the documentation provided above."
   ]
  },
  {
   "cell_type": "code",
   "execution_count": 2,
   "metadata": {},
   "outputs": [],
   "source": [
    "# First, import the relevant modules\n",
    "import requests\n",
    "import collections\n",
    "import json"
   ]
  },
  {
   "cell_type": "code",
   "execution_count": 3,
   "metadata": {},
   "outputs": [],
   "source": [
    "# Now, call the Quandl API and pull out a small sample of the data (only one day) to get a glimpse\n",
    "# into the JSON structure that will be returned\n",
    "request = requests.get('https://api.boerse-frankfurt.de/data/price_history?limit=50&offset=0&isin=DE0005313704&mic=XETR&minDate=2020-08-07&maxDate=2020-08-21')"
   ]
  },
  {
   "cell_type": "code",
   "execution_count": 4,
   "metadata": {},
   "outputs": [
    {
     "name": "stdout",
     "output_type": "stream",
     "text": [
      "isin   DE0005313704\n",
      "data   [{'date': '2020-08-21', 'open': 92.15, 'close': 91.9, 'high': 92.2, 'low': 90.65, 'turnoverPieces': 65210, 'turnoverEuro': 5976477.15}, {'date': '2020-08-20', 'open': 91, 'close': 92.15, 'high': 92.4, 'low': 90.45, 'turnoverPieces': 95493, 'turnoverEuro': 8763119.9}, {'date': '2020-08-19', 'open': 91, 'close': 91.65, 'high': 92.2, 'low': 90, 'turnoverPieces': 88102, 'turnoverEuro': 8063097.4}, {'date': '2020-08-18', 'open': 91.55, 'close': 91, 'high': 92, 'low': 90.4, 'turnoverPieces': 85470, 'turnoverEuro': 7789882.4}, {'date': '2020-08-17', 'open': 91.6, 'close': 91.9, 'high': 91.95, 'low': 90.55, 'turnoverPieces': 58566, 'turnoverEuro': 5357104.3}, {'date': '2020-08-14', 'open': 92.9, 'close': 91.85, 'high': 93.25, 'low': 91.35, 'turnoverPieces': 78700, 'turnoverEuro': 7257628.1}, {'date': '2020-08-13', 'open': 92.2, 'close': 92.85, 'high': 93, 'low': 91.1, 'turnoverPieces': 98209, 'turnoverEuro': 9080452.6}, {'date': '2020-08-12', 'open': 90.8, 'close': 92.65, 'high': 92.95, 'low': 88.3, 'turnoverPieces': 182444, 'turnoverEuro': 16598657.95}, {'date': '2020-08-11', 'open': 94.9, 'close': 90.75, 'high': 95.4, 'low': 90.35, 'turnoverPieces': 168948, 'turnoverEuro': 15524389.1}, {'date': '2020-08-10', 'open': 94, 'close': 94.55, 'high': 96, 'low': 93.75, 'turnoverPieces': 183320, 'turnoverEuro': 17388579.4}, {'date': '2020-08-07', 'open': 90.2, 'close': 92.95, 'high': 93.15, 'low': 89.8, 'turnoverPieces': 109450, 'turnoverEuro': 10126152.1}]\n",
      "totalCount   11\n",
      "tradedInPercent   False\n"
     ]
    }
   ],
   "source": [
    "# Inspect the JSON structure of the object you created, and take note of how nested it is,\n",
    "# as well as the overall structure\n",
    "json_data = request.json()\n",
    "\n",
    "for k,v in json_data.items():\n",
    "    print(k, \" \", v)"
   ]
  },
  {
   "cell_type": "markdown",
   "metadata": {},
   "source": [
    "These are your tasks for this mini project:\n",
    "\n",
    "1. Collect data from the Franfurt Stock Exchange, for the ticker AFX_X, for the whole year 2017 (keep in mind that the date format is YYYY-MM-DD).\n",
    "2. Convert the returned JSON object into a Python dictionary.\n",
    "3. Calculate what the highest and lowest opening prices were for the stock in this period.\n",
    "4. What was the largest change in any one day (based on High and Low price)?\n",
    "5. What was the largest change between any two days (based on Closing Price)?\n",
    "6. What was the average daily trading volume during this year?\n",
    "7. (Optional) What was the median trading volume during this year. (Note: you may need to implement your own function for calculating the median.)"
   ]
  },
  {
   "cell_type": "code",
   "execution_count": 5,
   "metadata": {},
   "outputs": [],
   "source": [
    "request = requests.get('https://api.boerse-frankfurt.de/data/price_history?limit=50&offset=0&isin=DE0005313704&mic=XETR&minDate=2019-08-21&maxDate=2020-08-21')"
   ]
  },
  {
   "cell_type": "code",
   "execution_count": 6,
   "metadata": {
    "scrolled": true
   },
   "outputs": [],
   "source": [
    "json_data = request.json()"
   ]
  },
  {
   "cell_type": "code",
   "execution_count": 7,
   "metadata": {},
   "outputs": [
    {
     "data": {
      "text/plain": [
       "dict"
      ]
     },
     "execution_count": 7,
     "metadata": {},
     "output_type": "execute_result"
    }
   ],
   "source": [
    "type(json_data)"
   ]
  },
  {
   "cell_type": "code",
   "execution_count": 8,
   "metadata": {},
   "outputs": [
    {
     "name": "stdout",
     "output_type": "stream",
     "text": [
      "{'isin': 'DE0005313704', 'data': [{'date': '2020-08-21', 'open': 92.15, 'close': 91.9, 'high': 92.2, 'low': 90.65, 'turnoverPieces': 65210, 'turnoverEuro': 5976477.15}, {'date': '2020-08-20', 'open': 91, 'close': 92.15, 'high': 92.4, 'low': 90.45, 'turnoverPieces': 95493, 'turnoverEuro': 8763119.9}, {'date': '2020-08-19', 'open': 91, 'close': 91.65, 'high': 92.2, 'low': 90, 'turnoverPieces': 88102, 'turnoverEuro': 8063097.4}, {'date': '2020-08-18', 'open': 91.55, 'close': 91, 'high': 92, 'low': 90.4, 'turnoverPieces': 85470, 'turnoverEuro': 7789882.4}, {'date': '2020-08-17', 'open': 91.6, 'close': 91.9, 'high': 91.95, 'low': 90.55, 'turnoverPieces': 58566, 'turnoverEuro': 5357104.3}, {'date': '2020-08-14', 'open': 92.9, 'close': 91.85, 'high': 93.25, 'low': 91.35, 'turnoverPieces': 78700, 'turnoverEuro': 7257628.1}, {'date': '2020-08-13', 'open': 92.2, 'close': 92.85, 'high': 93, 'low': 91.1, 'turnoverPieces': 98209, 'turnoverEuro': 9080452.6}, {'date': '2020-08-12', 'open': 90.8, 'close': 92.65, 'high': 92.95, 'low': 88.3, 'turnoverPieces': 182444, 'turnoverEuro': 16598657.95}, {'date': '2020-08-11', 'open': 94.9, 'close': 90.75, 'high': 95.4, 'low': 90.35, 'turnoverPieces': 168948, 'turnoverEuro': 15524389.1}, {'date': '2020-08-10', 'open': 94, 'close': 94.55, 'high': 96, 'low': 93.75, 'turnoverPieces': 183320, 'turnoverEuro': 17388579.4}, {'date': '2020-08-07', 'open': 90.2, 'close': 92.95, 'high': 93.15, 'low': 89.8, 'turnoverPieces': 109450, 'turnoverEuro': 10126152.1}, {'date': '2020-08-06', 'open': 91.45, 'close': 91.1, 'high': 92, 'low': 90.35, 'turnoverPieces': 140089, 'turnoverEuro': 12778666.3}, {'date': '2020-08-05', 'open': 89.85, 'close': 91.85, 'high': 91.85, 'low': 88.75, 'turnoverPieces': 147638, 'turnoverEuro': 13413298.3}, {'date': '2020-08-04', 'open': 90.5, 'close': 89.05, 'high': 91.1, 'low': 88.25, 'turnoverPieces': 110318, 'turnoverEuro': 9813561}, {'date': '2020-08-03', 'open': 89, 'close': 90, 'high': 90.5, 'low': 88.2, 'turnoverPieces': 95661, 'turnoverEuro': 8591521.9}, {'date': '2020-07-31', 'open': 89.4, 'close': 88.65, 'high': 90.95, 'low': 88.5, 'turnoverPieces': 145927, 'turnoverEuro': 13058046.1}, {'date': '2020-07-30', 'open': 91.7, 'close': 89.6, 'high': 91.75, 'low': 88.1, 'turnoverPieces': 182764, 'turnoverEuro': 16464224.8}, {'date': '2020-07-29', 'open': 88.55, 'close': 92.25, 'high': 92.25, 'low': 88.2, 'turnoverPieces': 169549, 'turnoverEuro': 15522318.75}, {'date': '2020-07-28', 'open': 89.5, 'close': 88.85, 'high': 89.75, 'low': 88.35, 'turnoverPieces': 116461, 'turnoverEuro': 10345922.4}, {'date': '2020-07-27', 'open': 88, 'close': 89.15, 'high': 89.55, 'low': 87.35, 'turnoverPieces': 102146, 'turnoverEuro': 9082131.05}, {'date': '2020-07-24', 'open': 90.5, 'close': 87.9, 'high': 90.5, 'low': 87.85, 'turnoverPieces': 177031, 'turnoverEuro': 15683394.95}, {'date': '2020-07-23', 'open': 88.4, 'close': 91.55, 'high': 91.55, 'low': 88.15, 'turnoverPieces': 146866, 'turnoverEuro': 13280553.85}, {'date': '2020-07-22', 'open': 88.6, 'close': 88.75, 'high': 89.1, 'low': 87.4, 'turnoverPieces': 101234, 'turnoverEuro': 8954258.2}, {'date': '2020-07-21', 'open': 89.55, 'close': 88.5, 'high': 89.95, 'low': 87.75, 'turnoverPieces': 195028, 'turnoverEuro': 17331900.8}, {'date': '2020-07-20', 'open': 88.25, 'close': 88.95, 'high': 89.5, 'low': 87.55, 'turnoverPieces': 227635, 'turnoverEuro': 20134893.65}, {'date': '2020-07-17', 'open': 89.15, 'close': 88.4, 'high': 90.5, 'low': 88, 'turnoverPieces': 163078, 'turnoverEuro': 14464839.25}, {'date': '2020-07-16', 'open': 90.65, 'close': 88.95, 'high': 90.65, 'low': 87.9, 'turnoverPieces': 197755, 'turnoverEuro': 17652520.05}, {'date': '2020-07-15', 'open': 90, 'close': 91.7, 'high': 91.7, 'low': 86.3, 'turnoverPieces': 258220, 'turnoverEuro': 23077220.7}, {'date': '2020-07-14', 'open': 90.1, 'close': 89.2, 'high': 90.15, 'low': 88.1, 'turnoverPieces': 183507, 'turnoverEuro': 16350975.75}, {'date': '2020-07-13', 'open': 90.45, 'close': 91.05, 'high': 91.15, 'low': 88.6, 'turnoverPieces': 87454, 'turnoverEuro': 7915927}, {'date': '2020-07-10', 'open': 89.25, 'close': 89.9, 'high': 91.55, 'low': 88.9, 'turnoverPieces': 93540, 'turnoverEuro': 8453243.25}, {'date': '2020-07-09', 'open': 91.15, 'close': 89.55, 'high': 91.35, 'low': 89.45, 'turnoverPieces': 181776, 'turnoverEuro': 16405326.65}, {'date': '2020-07-08', 'open': 92, 'close': 90.3, 'high': 92.55, 'low': 90.15, 'turnoverPieces': 153582, 'turnoverEuro': 13970079.05}, {'date': '2020-07-07', 'open': 92.95, 'close': 92.5, 'high': 93.65, 'low': 91.15, 'turnoverPieces': 153153, 'turnoverEuro': 14109118.8}, {'date': '2020-07-06', 'open': 93.8, 'close': 93.8, 'high': 93.9, 'low': 92.8, 'turnoverPieces': 98508, 'turnoverEuro': 9199714.85}, {'date': '2020-07-03', 'open': 93.1, 'close': 92.35, 'high': 93.85, 'low': 91.9, 'turnoverPieces': 114471, 'turnoverEuro': 10617857.55}, {'date': '2020-07-02', 'open': 89.75, 'close': 92.85, 'high': 93.8, 'low': 88.8, 'turnoverPieces': 365676, 'turnoverEuro': 33662061.9}, {'date': '2020-07-01', 'open': 86.2, 'close': 89.25, 'high': 89.25, 'low': 86, 'turnoverPieces': 106604, 'turnoverEuro': 9438618.8}, {'date': '2020-06-30', 'open': 87, 'close': 86.8, 'high': 87.15, 'low': 85, 'turnoverPieces': 138372, 'turnoverEuro': 11944211.15}, {'date': '2020-06-29', 'open': 88, 'close': 87.05, 'high': 88.85, 'low': 86.5, 'turnoverPieces': 76589, 'turnoverEuro': 6688133.9}, {'date': '2020-06-26', 'open': 88.2, 'close': 88.05, 'high': 89.4, 'low': 86.65, 'turnoverPieces': 123809, 'turnoverEuro': 10922723.5}, {'date': '2020-06-25', 'open': 86.25, 'close': 87.8, 'high': 88.25, 'low': 84.8, 'turnoverPieces': 118166, 'turnoverEuro': 10302946.05}, {'date': '2020-06-24', 'open': 90.05, 'close': 86.2, 'high': 90.25, 'low': 86.2, 'turnoverPieces': 115847, 'turnoverEuro': 10143798.5}, {'date': '2020-06-23', 'open': 89.2, 'close': 89.95, 'high': 91, 'low': 88.6, 'turnoverPieces': 112453, 'turnoverEuro': 10108636.8}, {'date': '2020-06-22', 'open': 90.35, 'close': 88.55, 'high': 90.7, 'low': 87.85, 'turnoverPieces': 116991, 'turnoverEuro': 10394476.9}, {'date': '2020-06-19', 'open': 90.55, 'close': 91.25, 'high': 91.8, 'low': 90, 'turnoverPieces': 174766, 'turnoverEuro': 15936379.65}, {'date': '2020-06-18', 'open': 91.6, 'close': 90.05, 'high': 91.85, 'low': 89.6, 'turnoverPieces': 98019, 'turnoverEuro': 8859710.65}, {'date': '2020-06-17', 'open': 90.55, 'close': 91.45, 'high': 92.15, 'low': 89.7, 'turnoverPieces': 149331, 'turnoverEuro': 13655800.2}, {'date': '2020-06-16', 'open': 88.35, 'close': 90.65, 'high': 90.75, 'low': 87.45, 'turnoverPieces': 206243, 'turnoverEuro': 18478591.35}, {'date': '2020-06-15', 'open': 85, 'close': 86.35, 'high': 86.9, 'low': 84.75, 'turnoverPieces': 181008, 'turnoverEuro': 15502164.95}], 'totalCount': 253, 'tradedInPercent': False}\n"
     ]
    }
   ],
   "source": [
    "print(json_data)"
   ]
  },
  {
   "cell_type": "code",
   "execution_count": null,
   "metadata": {},
   "outputs": [],
   "source": []
  },
  {
   "cell_type": "code",
   "execution_count": 9,
   "metadata": {},
   "outputs": [],
   "source": [
    "test = json_data['data']"
   ]
  },
  {
   "cell_type": "code",
   "execution_count": 10,
   "metadata": {},
   "outputs": [],
   "source": [
    "opening = []\n",
    "closing = []\n",
    "highest = []\n",
    "lowest = []\n",
    "difference = []\n",
    "volume =[]\n",
    "for idx, sub in enumerate(test, start = 0): \n",
    "    opening.append(sub['open']) \n",
    "    closing.append(sub['close'])\n",
    "    highest.append(sub['high'])\n",
    "    lowest.append(sub['low'])\n",
    "    difference.append(sub['high']-sub['low']) \n",
    "    volume.append(sub['turnoverPieces'])\n",
    "  "
   ]
  },
  {
   "cell_type": "code",
   "execution_count": 11,
   "metadata": {},
   "outputs": [],
   "source": [
    "high_open =max(opening)\n",
    "low_open = min(opening)\n",
    "max_diff = max(difference)"
   ]
  },
  {
   "cell_type": "code",
   "execution_count": 12,
   "metadata": {},
   "outputs": [
    {
     "name": "stdout",
     "output_type": "stream",
     "text": [
      "[91.9, 92.15, 91.65, 91, 91.9, 91.85, 92.85, 92.65, 90.75, 94.55, 92.95, 91.1, 91.85, 89.05, 90, 88.65, 89.6, 92.25, 88.85, 89.15, 87.9, 91.55, 88.75, 88.5, 88.95, 88.4, 88.95, 91.7, 89.2, 91.05, 89.9, 89.55, 90.3, 92.5, 93.8, 92.35, 92.85, 89.25, 86.8, 87.05, 88.05, 87.8, 86.2, 89.95, 88.55, 91.25, 90.05, 91.45, 90.65, 86.35]\n"
     ]
    }
   ],
   "source": [
    "print(closing)"
   ]
  },
  {
   "cell_type": "code",
   "execution_count": 13,
   "metadata": {},
   "outputs": [
    {
     "name": "stdout",
     "output_type": "stream",
     "text": [
      "3.799999999999997\n"
     ]
    }
   ],
   "source": [
    "closing_diff = []\n",
    "for idx,i in enumerate(closing,start=0):\n",
    "    if idx+1 <len(closing):\n",
    "        closing_diff.append((closing[idx+1] -closing[idx]))\n",
    "        \n",
    "print(max(closing_diff))        "
   ]
  },
  {
   "cell_type": "code",
   "execution_count": 14,
   "metadata": {},
   "outputs": [],
   "source": [
    "mean_trading = sum(volume)/len(volume)"
   ]
  },
  {
   "cell_type": "code",
   "execution_count": 18,
   "metadata": {},
   "outputs": [],
   "source": [
    "if len(volume)%2 ==0:\n",
    "    median_trading = volume[int(len(volume)/2)]\n",
    "else:\n",
    "    mid = int(len(volume)/2)\n",
    "    mid_1 = mid -1\n",
    "    median_trading = (volume[mid]+volume[mid_1])/2"
   ]
  },
  {
   "cell_type": "code",
   "execution_count": 19,
   "metadata": {},
   "outputs": [
    {
     "data": {
      "text/plain": [
       "163078"
      ]
     },
     "execution_count": 19,
     "metadata": {},
     "output_type": "execute_result"
    }
   ],
   "source": [
    "median_trading"
   ]
  },
  {
   "cell_type": "code",
   "execution_count": null,
   "metadata": {},
   "outputs": [],
   "source": []
  }
 ],
 "metadata": {
  "kernelspec": {
   "display_name": "Python 3",
   "language": "python",
   "name": "python3"
  },
  "language_info": {
   "codemirror_mode": {
    "name": "ipython",
    "version": 3
   },
   "file_extension": ".py",
   "mimetype": "text/x-python",
   "name": "python",
   "nbconvert_exporter": "python",
   "pygments_lexer": "ipython3",
   "version": "3.7.1"
  }
 },
 "nbformat": 4,
 "nbformat_minor": 2
}
